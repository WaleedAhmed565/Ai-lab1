{
  "nbformat": 4,
  "nbformat_minor": 0,
  "metadata": {
    "colab": {
      "provenance": [],
      "include_colab_link": true
    },
    "kernelspec": {
      "name": "python3",
      "display_name": "Python 3"
    },
    "language_info": {
      "name": "python"
    }
  },
  "cells": [
    {
      "cell_type": "markdown",
      "metadata": {
        "id": "view-in-github",
        "colab_type": "text"
      },
      "source": [
        "<a href=\"https://colab.research.google.com/github/WaleedAhmed565/Ai-lab1/blob/main/Untitled1.ipynb\" target=\"_parent\"><img src=\"https://colab.research.google.com/assets/colab-badge.svg\" alt=\"Open In Colab\"/></a>"
      ]
    },
    {
      "cell_type": "code",
      "execution_count": null,
      "metadata": {
        "id": "SedGmjbUpXYY"
      },
      "outputs": [],
      "source": [
        "import matplotlib.pyplot as plt\n",
        "import networkx as nx\n",
        "\n",
        "def dfs(graph, start, goal, path=None):\n",
        "    # Initialize the path if it's not provided\n",
        "    if path is None:\n",
        "        path = []\n",
        "\n",
        "    # Add the current node (start) to the path\n",
        "    path = path + [start]\n",
        "\n",
        "    # Check if the current node is the goal\n",
        "    if start == goal:\n",
        "        return [path]\n",
        "\n",
        "    # If the start node is not in the graph, return an empty list\n",
        "    if start not in graph:\n",
        "        return []\n",
        "\n",
        "    # List to store all the paths found\n",
        "    paths = []\n",
        "\n",
        "    # Explore each neighbor of the current node\n",
        "    for neighbor in graph[start]:\n",
        "        # Only visit unvisited neighbors\n",
        "        if neighbor not in path:\n",
        "            new_paths = dfs(graph, neighbor, goal, path)  # Recursive DFS call\n",
        "            for p in new_paths:\n",
        "                paths.append(p)  # Add the new paths to the list\n",
        "\n",
        "    return paths\n",
        "\n",
        "# Graph representation of cities in Pakistan\n",
        "pakistan_cities_graph = {\n",
        "    'Islamabad': ['Rawalpindi', 'Peshawar', 'Lahore'],\n",
        "    'Rawalpindi': ['Islamabad', 'Peshawar'],\n",
        "    'Peshawar': ['Islamabad', 'Rawalpindi', 'Quetta'],\n",
        "    'Lahore': ['Islamabad', 'Multan'],\n",
        "    'Multan': ['Lahore', 'Karachi'],\n",
        "    'Karachi': ['Multan', 'Quetta'],\n",
        "    'Quetta': ['Peshawar', 'Karachi']\n",
        "}\n",
        "\n",
        "# Find all paths from Islamabad to Karachi\n",
        "paths = dfs(pakistan_cities_graph, 'Islamabad', 'Karachi')\n",
        "print(\"All Paths from Islamabad to Karachi:\")\n",
        "for path in paths:\n",
        "    print(\" -> \".join(path))\n",
        "\n",
        "def plot_graph(graph):\n",
        "    # Create a new graph object\n",
        "    G = nx.Graph()\n",
        "\n",
        "    # Add edges to the graph\n",
        "    for city, neighbors in graph.items():\n",
        "        for neighbor in neighbors:\n",
        "            G.add_edge(city, neighbor)\n",
        "\n",
        "    # Plot the graph\n",
        "    plt.figure(figsize=(8, 6))\n",
        "    pos = nx.spring_layout(G)  # Positioning the nodes\n",
        "    nx.draw(G, pos, with_labels=True, node_color='lightgreen',\n",
        "            node_size=3000, font_size=10, font_weight='bold', edge_color='black')\n",
        "    plt.title(\"Graph of Cities in Pakistan\")\n",
        "    plt.show()\n",
        "\n",
        "# Call the function to plot the graph\n",
        "plot_graph(pakistan_cities_graph)\n"
      ]
    }
  ]
}