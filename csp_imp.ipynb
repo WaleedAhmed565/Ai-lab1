{
  "nbformat": 4,
  "nbformat_minor": 0,
  "metadata": {
    "colab": {
      "provenance": [],
      "include_colab_link": true
    },
    "kernelspec": {
      "name": "python3",
      "display_name": "Python 3"
    },
    "language_info": {
      "name": "python"
    }
  },
  "cells": [
    {
      "cell_type": "markdown",
      "metadata": {
        "id": "view-in-github",
        "colab_type": "text"
      },
      "source": [
        "<a href=\"https://colab.research.google.com/github/WaleedAhmed565/Ai-lab1/blob/main/csp_imp.ipynb\" target=\"_parent\"><img src=\"https://colab.research.google.com/assets/colab-badge.svg\" alt=\"Open In Colab\"/></a>"
      ]
    },
    {
      "cell_type": "markdown",
      "source": [
        "# Constraint Satisfaction Problems\n",
        "\n",
        "Suppose a situation where you have four students $S_1, S_2, S_3$ and $S_4$.The student, $S_1$, is registered in courses A, B, and C. The student, $S_2$, is registered in courses B, D, and E. The student, $S_3$, is registered in courses C, E, and F while the student, $S_4$, is registered in courses E, F, anf G.  We want to make an exam schedule where we have no conflict (two papers of one student in the same slot are not allowed). Thus we have the following Constraints:\n",
        "$$\\{A \\ne B, A\\ne C, B\\ne C, B\\ne D, B\\ne E, C\\ne E,\n",
        "C\\ne F, D\\ne E, E\\ne F, E\\ne G, F\\ne G\\} $$\n",
        "\n",
        "The exam may scheduled on Monday, Tuesday, and Wednesday only. Ths, the domain set become:\n",
        "$$\\{Monday, Tuesday, Wednesday\\}$$\n",
        "\n",
        "The following code show the implementation of the backtracking algorithm."
      ],
      "metadata": {
        "id": "PH2vKjHwrpar"
      }
    },
    {
      "cell_type": "code",
      "source": [
        "pip install python-constraint"
      ],
      "metadata": {
        "colab": {
          "base_uri": "https://localhost:8080/"
        },
        "id": "yseEbGMfoAMF",
        "outputId": "f9d6c153-3441-47ca-d847-27cab72f9d7f"
      },
      "execution_count": 2,
      "outputs": [
        {
          "output_type": "stream",
          "name": "stdout",
          "text": [
            "Collecting python-constraint\n",
            "  Downloading python-constraint-1.4.0.tar.bz2 (18 kB)\n",
            "  Preparing metadata (setup.py) ... \u001b[?25l\u001b[?25hdone\n",
            "Building wheels for collected packages: python-constraint\n",
            "  Building wheel for python-constraint (setup.py) ... \u001b[?25l\u001b[?25hdone\n",
            "  Created wheel for python-constraint: filename=python_constraint-1.4.0-py2.py3-none-any.whl size=24059 sha256=a0c4cd6b4b52d50e04e001eefb584bce7c01866ef2327e2a2148efe5c95d4416\n",
            "  Stored in directory: /root/.cache/pip/wheels/2e/f2/2b/cb08b5fe129e4f69b7033061f256e5c551b0aa1160c2872aee\n",
            "Successfully built python-constraint\n",
            "Installing collected packages: python-constraint\n",
            "Successfully installed python-constraint-1.4.0\n"
          ]
        }
      ]
    },
    {
      "cell_type": "code",
      "source": [
        "\"\"\"\n",
        "Naive backtracking search without any heuristics or inference.\n",
        "\"\"\"\n",
        "\n",
        "VARIABLES = [\"A\", \"B\", \"C\", \"D\", \"E\", \"F\", \"G\"]\n",
        "CONSTRAINTS = [\n",
        "    (\"A\", \"B\"),\n",
        "    (\"A\", \"C\"),\n",
        "    (\"B\", \"C\"),\n",
        "    (\"B\", \"D\"),\n",
        "    (\"B\", \"E\"),\n",
        "    (\"C\", \"E\"),\n",
        "    (\"C\", \"F\"),\n",
        "    (\"D\", \"E\"),\n",
        "    (\"E\", \"F\"),\n",
        "    (\"E\", \"G\"),\n",
        "    (\"F\", \"G\")\n",
        "]\n",
        "\n",
        "\n",
        "def backtrack(assignment):\n",
        "    \"\"\"Runs backtracking search to find an assignment.\"\"\"\n",
        "\n",
        "    # Check if assignment is complete\n",
        "    if len(assignment) == len(VARIABLES):\n",
        "        return assignment\n",
        "\n",
        "    # Try a new variable\n",
        "    var = select_unassigned_variable(assignment)\n",
        "    for value in [\"Monday\", \"Tuesday\", \"Wednesday\"]:\n",
        "        new_assignment = assignment.copy()\n",
        "        new_assignment[var] = value\n",
        "        if consistent(new_assignment):\n",
        "            result = backtrack(new_assignment)\n",
        "            if result is not None:\n",
        "                return result\n",
        "    return None\n",
        "\n",
        "\n",
        "def select_unassigned_variable(assignment):\n",
        "    \"\"\"Chooses a variable not yet assigned, in order.\"\"\"\n",
        "    for variable in VARIABLES:\n",
        "        if variable not in assignment:\n",
        "            return variable\n",
        "    return None\n",
        "\n",
        "\n",
        "def consistent(assignment):\n",
        "    \"\"\"Checks to see if an assignment is consistent.\"\"\"\n",
        "    for (x, y) in CONSTRAINTS:\n",
        "\n",
        "        # Only consider arcs where both are assigned\n",
        "        if x not in assignment or y not in assignment:\n",
        "            continue\n",
        "\n",
        "        # If both have same value, then not consistent\n",
        "        if assignment[x] == assignment[y]:\n",
        "            return False\n",
        "\n",
        "    # If nothing inconsistent, then assignment is consistent\n",
        "    return True\n",
        "\n",
        "\n",
        "solution = backtrack(dict())\n",
        "print(solution)"
      ],
      "metadata": {
        "colab": {
          "base_uri": "https://localhost:8080/"
        },
        "id": "PdLZmEfsdCUA",
        "outputId": "4900839b-2e1d-4f0b-cf14-414bae7a03c2"
      },
      "execution_count": 1,
      "outputs": [
        {
          "output_type": "stream",
          "name": "stdout",
          "text": [
            "{'A': 'Monday', 'B': 'Tuesday', 'C': 'Wednesday', 'D': 'Wednesday', 'E': 'Monday', 'F': 'Tuesday', 'G': 'Wednesday'}\n"
          ]
        }
      ]
    },
    {
      "cell_type": "code",
      "source": [],
      "metadata": {
        "id": "X7_0TCE2dXIA"
      },
      "execution_count": null,
      "outputs": []
    },
    {
      "cell_type": "markdown",
      "source": [
        "To solve the CSP the python library **constraint** can also be used. Install the library if it is not installed already.\n",
        "\n",
        "\n",
        "\n",
        "\n"
      ],
      "metadata": {
        "id": "VNrfkCydosQ2"
      }
    },
    {
      "cell_type": "code",
      "source": [
        "pip install python-constraint"
      ],
      "metadata": {
        "colab": {
          "base_uri": "https://localhost:8080/"
        },
        "id": "1WglaOcwpD1v",
        "outputId": "ea0ed5f9-1875-46e9-bb96-c4f399d35639"
      },
      "execution_count": null,
      "outputs": [
        {
          "output_type": "stream",
          "name": "stdout",
          "text": [
            "Collecting python-constraint\n",
            "  Downloading python-constraint-1.4.0.tar.bz2 (18 kB)\n",
            "  Preparing metadata (setup.py) ... \u001b[?25l\u001b[?25hdone\n",
            "Building wheels for collected packages: python-constraint\n",
            "  Building wheel for python-constraint (setup.py) ... \u001b[?25l\u001b[?25hdone\n",
            "  Created wheel for python-constraint: filename=python_constraint-1.4.0-py2.py3-none-any.whl size=24058 sha256=ff7816a414582b57c4364c9049da15c315a49d622167643fe0ecb3f85eb3e744\n",
            "  Stored in directory: /root/.cache/pip/wheels/2e/f2/2b/cb08b5fe129e4f69b7033061f256e5c551b0aa1160c2872aee\n",
            "Successfully built python-constraint\n",
            "Installing collected packages: python-constraint\n",
            "Successfully installed python-constraint-1.4.0\n"
          ]
        }
      ]
    },
    {
      "cell_type": "markdown",
      "source": [
        "Question 1"
      ],
      "metadata": {
        "id": "m9PQg1R1pi2Q"
      }
    },
    {
      "cell_type": "code",
      "source": [
        "from google.colab import drive\n",
        "drive.mount('/content/drive')"
      ],
      "metadata": {
        "id": "mvPv_9gJpoHT"
      },
      "execution_count": null,
      "outputs": []
    },
    {
      "cell_type": "code",
      "source": [],
      "metadata": {
        "id": "dL8goKb0ptnG"
      },
      "execution_count": null,
      "outputs": []
    },
    {
      "cell_type": "markdown",
      "source": [
        "# New section"
      ],
      "metadata": {
        "id": "gKwpJpvRp4a4"
      }
    },
    {
      "cell_type": "code",
      "source": [
        "from constraint import Problem\n",
        "\n",
        "# Initialize the problem\n",
        "problem = Problem()\n",
        "\n",
        "# Variables\n",
        "events = ['E1', 'E2', 'E3', 'E4']\n",
        "speakers = ['S1', 'S2', 'S3', 'S4']\n",
        "time_slots = ['T1', 'T2', 'T3', 'T4']\n",
        "\n",
        "# Assign domains to variables\n",
        "problem.addVariables(events, time_slots)\n",
        "problem.addVariables(speakers, time_slots)\n",
        "\n",
        "# Constraints\n",
        "# Each event must be assigned to a unique time slot\n",
        "problem.addConstraint(lambda e1, e2, e3, e4: len({e1, e2, e3, e4}) == 4, events)\n",
        "\n",
        "# Event E1 must be scheduled in T1\n",
        "problem.addConstraint(lambda e1: e1 == 'T1', ['E1'])\n",
        "\n",
        "# Speaker S2 prefers T2\n",
        "problem.addConstraint(lambda s2: s2 == 'T2', ['S2'])\n",
        "\n",
        "# Events E2 and E3 must not be in the same time slot\n",
        "problem.addConstraint(lambda e2, e3: e2 != e3, ['E2', 'E3'])\n",
        "\n",
        "# No speaker can speak at more than one event at the same time\n",
        "# Ensure all speakers are assigned unique time slots.\n",
        "problem.addConstraint(lambda s1, s2, s3, s4: len({s1, s2, s3, s4}) == 4, speakers)\n",
        "\n",
        "# Solve the problem\n",
        "solutions = problem.getSolutions()\n",
        "\n",
        "# Print solutions\n",
        "print(\"Possible solutions:\")\n",
        "for solution in solutions:\n",
        "    print(solution)\n"
      ],
      "metadata": {
        "colab": {
          "base_uri": "https://localhost:8080/"
        },
        "id": "LbyilQnaoicy",
        "outputId": "3eb98d7a-02d5-447f-b2de-7e179c59f09f"
      },
      "execution_count": 5,
      "outputs": [
        {
          "output_type": "stream",
          "name": "stdout",
          "text": [
            "Possible solutions:\n",
            "{'E2': 'T4', 'E3': 'T3', 'E1': 'T1', 'E4': 'T2', 'S2': 'T2', 'S1': 'T4', 'S3': 'T3', 'S4': 'T1'}\n",
            "{'E2': 'T4', 'E3': 'T3', 'E1': 'T1', 'E4': 'T2', 'S2': 'T2', 'S1': 'T4', 'S3': 'T1', 'S4': 'T3'}\n",
            "{'E2': 'T4', 'E3': 'T3', 'E1': 'T1', 'E4': 'T2', 'S2': 'T2', 'S1': 'T3', 'S3': 'T4', 'S4': 'T1'}\n",
            "{'E2': 'T4', 'E3': 'T3', 'E1': 'T1', 'E4': 'T2', 'S2': 'T2', 'S1': 'T3', 'S3': 'T1', 'S4': 'T4'}\n",
            "{'E2': 'T4', 'E3': 'T3', 'E1': 'T1', 'E4': 'T2', 'S2': 'T2', 'S1': 'T1', 'S3': 'T4', 'S4': 'T3'}\n",
            "{'E2': 'T4', 'E3': 'T3', 'E1': 'T1', 'E4': 'T2', 'S2': 'T2', 'S1': 'T1', 'S3': 'T3', 'S4': 'T4'}\n",
            "{'E2': 'T4', 'E3': 'T2', 'E1': 'T1', 'E4': 'T3', 'S2': 'T2', 'S1': 'T4', 'S3': 'T3', 'S4': 'T1'}\n",
            "{'E2': 'T4', 'E3': 'T2', 'E1': 'T1', 'E4': 'T3', 'S2': 'T2', 'S1': 'T4', 'S3': 'T1', 'S4': 'T3'}\n",
            "{'E2': 'T4', 'E3': 'T2', 'E1': 'T1', 'E4': 'T3', 'S2': 'T2', 'S1': 'T3', 'S3': 'T4', 'S4': 'T1'}\n",
            "{'E2': 'T4', 'E3': 'T2', 'E1': 'T1', 'E4': 'T3', 'S2': 'T2', 'S1': 'T3', 'S3': 'T1', 'S4': 'T4'}\n",
            "{'E2': 'T4', 'E3': 'T2', 'E1': 'T1', 'E4': 'T3', 'S2': 'T2', 'S1': 'T1', 'S3': 'T4', 'S4': 'T3'}\n",
            "{'E2': 'T4', 'E3': 'T2', 'E1': 'T1', 'E4': 'T3', 'S2': 'T2', 'S1': 'T1', 'S3': 'T3', 'S4': 'T4'}\n",
            "{'E2': 'T3', 'E3': 'T4', 'E1': 'T1', 'E4': 'T2', 'S2': 'T2', 'S1': 'T4', 'S3': 'T3', 'S4': 'T1'}\n",
            "{'E2': 'T3', 'E3': 'T4', 'E1': 'T1', 'E4': 'T2', 'S2': 'T2', 'S1': 'T4', 'S3': 'T1', 'S4': 'T3'}\n",
            "{'E2': 'T3', 'E3': 'T4', 'E1': 'T1', 'E4': 'T2', 'S2': 'T2', 'S1': 'T3', 'S3': 'T4', 'S4': 'T1'}\n",
            "{'E2': 'T3', 'E3': 'T4', 'E1': 'T1', 'E4': 'T2', 'S2': 'T2', 'S1': 'T3', 'S3': 'T1', 'S4': 'T4'}\n",
            "{'E2': 'T3', 'E3': 'T4', 'E1': 'T1', 'E4': 'T2', 'S2': 'T2', 'S1': 'T1', 'S3': 'T4', 'S4': 'T3'}\n",
            "{'E2': 'T3', 'E3': 'T4', 'E1': 'T1', 'E4': 'T2', 'S2': 'T2', 'S1': 'T1', 'S3': 'T3', 'S4': 'T4'}\n",
            "{'E2': 'T3', 'E3': 'T2', 'E1': 'T1', 'E4': 'T4', 'S2': 'T2', 'S1': 'T4', 'S3': 'T3', 'S4': 'T1'}\n",
            "{'E2': 'T3', 'E3': 'T2', 'E1': 'T1', 'E4': 'T4', 'S2': 'T2', 'S1': 'T4', 'S3': 'T1', 'S4': 'T3'}\n",
            "{'E2': 'T3', 'E3': 'T2', 'E1': 'T1', 'E4': 'T4', 'S2': 'T2', 'S1': 'T3', 'S3': 'T4', 'S4': 'T1'}\n",
            "{'E2': 'T3', 'E3': 'T2', 'E1': 'T1', 'E4': 'T4', 'S2': 'T2', 'S1': 'T3', 'S3': 'T1', 'S4': 'T4'}\n",
            "{'E2': 'T3', 'E3': 'T2', 'E1': 'T1', 'E4': 'T4', 'S2': 'T2', 'S1': 'T1', 'S3': 'T4', 'S4': 'T3'}\n",
            "{'E2': 'T3', 'E3': 'T2', 'E1': 'T1', 'E4': 'T4', 'S2': 'T2', 'S1': 'T1', 'S3': 'T3', 'S4': 'T4'}\n",
            "{'E2': 'T2', 'E3': 'T3', 'E1': 'T1', 'E4': 'T4', 'S2': 'T2', 'S1': 'T4', 'S3': 'T3', 'S4': 'T1'}\n",
            "{'E2': 'T2', 'E3': 'T3', 'E1': 'T1', 'E4': 'T4', 'S2': 'T2', 'S1': 'T4', 'S3': 'T1', 'S4': 'T3'}\n",
            "{'E2': 'T2', 'E3': 'T3', 'E1': 'T1', 'E4': 'T4', 'S2': 'T2', 'S1': 'T3', 'S3': 'T4', 'S4': 'T1'}\n",
            "{'E2': 'T2', 'E3': 'T3', 'E1': 'T1', 'E4': 'T4', 'S2': 'T2', 'S1': 'T3', 'S3': 'T1', 'S4': 'T4'}\n",
            "{'E2': 'T2', 'E3': 'T3', 'E1': 'T1', 'E4': 'T4', 'S2': 'T2', 'S1': 'T1', 'S3': 'T4', 'S4': 'T3'}\n",
            "{'E2': 'T2', 'E3': 'T3', 'E1': 'T1', 'E4': 'T4', 'S2': 'T2', 'S1': 'T1', 'S3': 'T3', 'S4': 'T4'}\n",
            "{'E2': 'T2', 'E3': 'T4', 'E1': 'T1', 'E4': 'T3', 'S2': 'T2', 'S1': 'T4', 'S3': 'T3', 'S4': 'T1'}\n",
            "{'E2': 'T2', 'E3': 'T4', 'E1': 'T1', 'E4': 'T3', 'S2': 'T2', 'S1': 'T4', 'S3': 'T1', 'S4': 'T3'}\n",
            "{'E2': 'T2', 'E3': 'T4', 'E1': 'T1', 'E4': 'T3', 'S2': 'T2', 'S1': 'T3', 'S3': 'T4', 'S4': 'T1'}\n",
            "{'E2': 'T2', 'E3': 'T4', 'E1': 'T1', 'E4': 'T3', 'S2': 'T2', 'S1': 'T3', 'S3': 'T1', 'S4': 'T4'}\n",
            "{'E2': 'T2', 'E3': 'T4', 'E1': 'T1', 'E4': 'T3', 'S2': 'T2', 'S1': 'T1', 'S3': 'T4', 'S4': 'T3'}\n",
            "{'E2': 'T2', 'E3': 'T4', 'E1': 'T1', 'E4': 'T3', 'S2': 'T2', 'S1': 'T1', 'S3': 'T3', 'S4': 'T4'}\n"
          ]
        }
      ]
    },
    {
      "cell_type": "markdown",
      "source": [
        "Question 2"
      ],
      "metadata": {
        "id": "FfdjyU8qpZLG"
      }
    },
    {
      "cell_type": "code",
      "source": [
        "from constraint import Problem\n",
        "\n",
        "# Initialize the problem\n",
        "problem = Problem()\n",
        "\n",
        "# Regions of Australia\n",
        "regions = ['WA', 'NT', 'SA', 'Q', 'NSW', 'V', 'T']\n",
        "\n",
        "# Add variables with domains (colors)\n",
        "colors = ['Red', 'Green', 'Blue']\n",
        "problem.addVariables(regions, colors)\n",
        "\n",
        "# Adjacent regions must not share the same color\n",
        "adjacent_pairs = [\n",
        "    ('WA', 'NT'), ('WA', 'SA'), ('NT', 'SA'), ('NT', 'Q'),\n",
        "    ('SA', 'Q'), ('SA', 'NSW'), ('SA', 'V'), ('Q', 'NSW'),\n",
        "    ('NSW', 'V')\n",
        "]\n",
        "\n",
        "for region1, region2 in adjacent_pairs:\n",
        "    problem.addConstraint(lambda r1, r2: r1 != r2, (region1, region2))\n",
        "\n",
        "# Solve the problem\n",
        "solutions = problem.getSolutions()\n",
        "\n",
        "# Print solutions\n",
        "print(\"Possible colorings:\")\n",
        "for solution in solutions:\n",
        "    print(solution)\n"
      ],
      "metadata": {
        "colab": {
          "base_uri": "https://localhost:8080/"
        },
        "id": "IONUs_Nto_ek",
        "outputId": "26781ed6-c65a-481e-894c-e00a62097c19"
      },
      "execution_count": 7,
      "outputs": [
        {
          "output_type": "stream",
          "name": "stdout",
          "text": [
            "Possible colorings:\n",
            "{'SA': 'Blue', 'NSW': 'Green', 'Q': 'Red', 'NT': 'Green', 'V': 'Red', 'WA': 'Red', 'T': 'Blue'}\n",
            "{'SA': 'Blue', 'NSW': 'Green', 'Q': 'Red', 'NT': 'Green', 'V': 'Red', 'WA': 'Red', 'T': 'Green'}\n",
            "{'SA': 'Blue', 'NSW': 'Green', 'Q': 'Red', 'NT': 'Green', 'V': 'Red', 'WA': 'Red', 'T': 'Red'}\n",
            "{'SA': 'Blue', 'NSW': 'Red', 'Q': 'Green', 'NT': 'Red', 'V': 'Green', 'WA': 'Green', 'T': 'Blue'}\n",
            "{'SA': 'Blue', 'NSW': 'Red', 'Q': 'Green', 'NT': 'Red', 'V': 'Green', 'WA': 'Green', 'T': 'Green'}\n",
            "{'SA': 'Blue', 'NSW': 'Red', 'Q': 'Green', 'NT': 'Red', 'V': 'Green', 'WA': 'Green', 'T': 'Red'}\n",
            "{'SA': 'Green', 'NSW': 'Blue', 'Q': 'Red', 'NT': 'Blue', 'V': 'Red', 'WA': 'Red', 'T': 'Blue'}\n",
            "{'SA': 'Green', 'NSW': 'Blue', 'Q': 'Red', 'NT': 'Blue', 'V': 'Red', 'WA': 'Red', 'T': 'Green'}\n",
            "{'SA': 'Green', 'NSW': 'Blue', 'Q': 'Red', 'NT': 'Blue', 'V': 'Red', 'WA': 'Red', 'T': 'Red'}\n",
            "{'SA': 'Green', 'NSW': 'Red', 'Q': 'Blue', 'NT': 'Red', 'V': 'Blue', 'WA': 'Blue', 'T': 'Blue'}\n",
            "{'SA': 'Green', 'NSW': 'Red', 'Q': 'Blue', 'NT': 'Red', 'V': 'Blue', 'WA': 'Blue', 'T': 'Green'}\n",
            "{'SA': 'Green', 'NSW': 'Red', 'Q': 'Blue', 'NT': 'Red', 'V': 'Blue', 'WA': 'Blue', 'T': 'Red'}\n",
            "{'SA': 'Red', 'NSW': 'Green', 'Q': 'Blue', 'NT': 'Green', 'V': 'Blue', 'WA': 'Blue', 'T': 'Blue'}\n",
            "{'SA': 'Red', 'NSW': 'Green', 'Q': 'Blue', 'NT': 'Green', 'V': 'Blue', 'WA': 'Blue', 'T': 'Green'}\n",
            "{'SA': 'Red', 'NSW': 'Green', 'Q': 'Blue', 'NT': 'Green', 'V': 'Blue', 'WA': 'Blue', 'T': 'Red'}\n",
            "{'SA': 'Red', 'NSW': 'Blue', 'Q': 'Green', 'NT': 'Blue', 'V': 'Green', 'WA': 'Green', 'T': 'Blue'}\n",
            "{'SA': 'Red', 'NSW': 'Blue', 'Q': 'Green', 'NT': 'Blue', 'V': 'Green', 'WA': 'Green', 'T': 'Green'}\n",
            "{'SA': 'Red', 'NSW': 'Blue', 'Q': 'Green', 'NT': 'Blue', 'V': 'Green', 'WA': 'Green', 'T': 'Red'}\n"
          ]
        }
      ]
    },
    {
      "cell_type": "code",
      "source": [
        "from constraint import *  # import the constraint\n",
        "\n",
        "problem = Problem()    # Create the instance of the problem\n",
        "\n",
        "# Add variables:\n",
        "## It is important to add your varaibles and their domain values to the problem.addVariables()\n",
        "problem.addVariables(\n",
        "    [\"A\", \"B\", \"C\", \"D\", \"E\", \"F\", \"G\"],\n",
        "    [\"Monday\", \"Tuesday\", \"Wednesday\"]\n",
        ")\n",
        "\n",
        "# Add constraints\n",
        "## Add your constraints here\n",
        "CONSTRAINTS = [\n",
        "    (\"A\", \"B\"),\n",
        "    (\"A\", \"C\"),\n",
        "    (\"B\", \"C\"),\n",
        "    (\"B\", \"D\"),\n",
        "    (\"B\", \"E\"),\n",
        "    (\"C\", \"E\"),\n",
        "    (\"C\", \"F\"),\n",
        "    (\"D\", \"E\"),\n",
        "    (\"E\", \"F\"),\n",
        "    (\"E\", \"G\"),\n",
        "    (\"F\", \"G\")\n",
        "]\n",
        "for x, y in CONSTRAINTS:\n",
        "    problem.addConstraint(lambda x, y: x != y, (x, y)) # Impose the constraints, this may vary problem to problem.\n",
        "\n",
        "# Solve problem\n",
        "## This will automatically call the backtracking function to solve your CSP.\n",
        "for solution in problem.getSolutions():\n",
        "    print(solution) ## The solution will return the all possible solutions. In this case, six solutions will be returned."
      ],
      "metadata": {
        "colab": {
          "base_uri": "https://localhost:8080/"
        },
        "id": "I0gWRaSsplHY",
        "outputId": "e807b52e-d257-435a-dc2c-637570147831"
      },
      "execution_count": null,
      "outputs": [
        {
          "output_type": "stream",
          "name": "stdout",
          "text": [
            "{'E': 'Wednesday', 'B': 'Tuesday', 'C': 'Monday', 'F': 'Tuesday', 'A': 'Wednesday', 'D': 'Monday', 'G': 'Monday'}\n",
            "{'E': 'Wednesday', 'B': 'Monday', 'C': 'Tuesday', 'F': 'Monday', 'A': 'Wednesday', 'D': 'Tuesday', 'G': 'Tuesday'}\n",
            "{'E': 'Tuesday', 'B': 'Wednesday', 'C': 'Monday', 'F': 'Wednesday', 'A': 'Tuesday', 'D': 'Monday', 'G': 'Monday'}\n",
            "{'E': 'Tuesday', 'B': 'Monday', 'C': 'Wednesday', 'F': 'Monday', 'A': 'Tuesday', 'D': 'Wednesday', 'G': 'Wednesday'}\n",
            "{'E': 'Monday', 'B': 'Tuesday', 'C': 'Wednesday', 'F': 'Tuesday', 'A': 'Monday', 'D': 'Wednesday', 'G': 'Wednesday'}\n",
            "{'E': 'Monday', 'B': 'Wednesday', 'C': 'Tuesday', 'F': 'Wednesday', 'A': 'Monday', 'D': 'Tuesday', 'G': 'Tuesday'}\n"
          ]
        }
      ]
    }
  ]
}