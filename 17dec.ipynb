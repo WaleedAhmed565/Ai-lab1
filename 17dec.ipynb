{
  "nbformat": 4,
  "nbformat_minor": 0,
  "metadata": {
    "colab": {
      "provenance": [],
      "authorship_tag": "ABX9TyOiaHQMr7n6H9l7iofjLcFu",
      "include_colab_link": true
    },
    "kernelspec": {
      "name": "python3",
      "display_name": "Python 3"
    },
    "language_info": {
      "name": "python"
    }
  },
  "cells": [
    {
      "cell_type": "markdown",
      "metadata": {
        "id": "view-in-github",
        "colab_type": "text"
      },
      "source": [
        "<a href=\"https://colab.research.google.com/github/WaleedAhmed565/Ai-lab1/blob/main/17dec.ipynb\" target=\"_parent\"><img src=\"https://colab.research.google.com/assets/colab-badge.svg\" alt=\"Open In Colab\"/></a>"
      ]
    },
    {
      "cell_type": "code",
      "execution_count": 2,
      "metadata": {
        "colab": {
          "base_uri": "https://localhost:8080/"
        },
        "id": "rtc1tG46lywQ",
        "outputId": "48837d4f-677a-4314-b09a-bebaa881c3f9"
      },
      "outputs": [
        {
          "output_type": "stream",
          "name": "stdout",
          "text": [
            "Mounted at /content/drive\n"
          ]
        }
      ],
      "source": [
        "from google.colab import drive\n",
        "\n",
        "# Mount your Google Drive\n",
        "drive.mount('/content/drive')\n"
      ]
    },
    {
      "cell_type": "code",
      "source": [
        "import pandas as pd\n",
        "\n",
        "# File path in your Google Drive\n",
        "file_path = '/content/drive/MyDrive/iris 17dec.csv'\n",
        "\n",
        "# Load the CSV file using pandas\n",
        "df = pd.read_csv(file_path)\n",
        "\n",
        "# Display the first few rows\n",
        "print(df.head())\n"
      ],
      "metadata": {
        "colab": {
          "base_uri": "https://localhost:8080/"
        },
        "id": "uAEUCR8QmhCg",
        "outputId": "f1bc314a-9a07-490f-ac3b-0aa78a289dea"
      },
      "execution_count": 4,
      "outputs": [
        {
          "output_type": "stream",
          "name": "stdout",
          "text": [
            "   sepal_length  sepal_width  petal_length  petal_width  class species\n",
            "0           5.1          3.5           1.4          0.2      0  setosa\n",
            "1           4.9          3.0           1.4          0.2      0  setosa\n",
            "2           4.7          3.2           1.3          0.2      0  setosa\n",
            "3           4.6          3.1           1.5          0.2      0  setosa\n",
            "4           5.0          3.6           1.4          0.2      0  setosa\n"
          ]
        }
      ]
    },
    {
      "cell_type": "code",
      "source": [
        "# Open and read a text file\n",
        "file_path = '/content/drive/MyDrive/iris 17dec.csv'\n",
        "\n",
        "with open(file_path, 'r') as file:\n",
        "    content = file.read()\n",
        "\n",
        "print(content)\n"
      ],
      "metadata": {
        "colab": {
          "base_uri": "https://localhost:8080/"
        },
        "id": "KjOfWE4umrqp",
        "outputId": "98ea7502-8b43-48fa-96e1-b7be31ab5f5d"
      },
      "execution_count": 5,
      "outputs": [
        {
          "output_type": "stream",
          "name": "stdout",
          "text": [
            "sepal_length,sepal_width,petal_length,petal_width,class,species\n",
            "5.1,3.5,1.4,0.2,0,setosa\n",
            "4.9,3,1.4,0.2,0,setosa\n",
            "4.7,3.2,1.3,0.2,0,setosa\n",
            "4.6,3.1,1.5,0.2,0,setosa\n",
            "5,3.6,1.4,0.2,0,setosa\n",
            "5.4,3.9,1.7,0.4,0,setosa\n",
            "4.6,3.4,1.4,0.3,0,setosa\n",
            "5,3.4,1.5,0.2,0,setosa\n",
            "4.4,2.9,1.4,0.2,0,setosa\n",
            "4.9,3.1,1.5,0.1,0,setosa\n",
            "5.4,3.7,1.5,0.2,0,setosa\n",
            "4.8,3.4,1.6,0.2,0,setosa\n",
            "4.8,3,1.4,0.1,0,setosa\n",
            "4.3,3,1.1,0.1,0,setosa\n",
            "5.8,4,1.2,0.2,0,setosa\n",
            "5.7,4.4,1.5,0.4,0,setosa\n",
            "5.4,3.9,1.3,0.4,0,setosa\n",
            "5.1,3.5,1.4,0.3,0,setosa\n",
            "5.7,3.8,1.7,0.3,0,setosa\n",
            "5.1,3.8,1.5,0.3,0,setosa\n",
            "5.4,3.4,1.7,0.2,0,setosa\n",
            "5.1,3.7,1.5,0.4,0,setosa\n",
            "4.6,3.6,1,0.2,0,setosa\n",
            "5.1,3.3,1.7,0.5,0,setosa\n",
            "4.8,3.4,1.9,0.2,0,setosa\n",
            "5,3,1.6,0.2,0,setosa\n",
            "5,3.4,1.6,0.4,0,setosa\n",
            "5.2,3.5,1.5,0.2,0,setosa\n",
            "5.2,3.4,1.4,0.2,0,setosa\n",
            "4.7,3.2,1.6,0.2,0,setosa\n",
            "4.8,3.1,1.6,0.2,0,setosa\n",
            "5.4,3.4,1.5,0.4,0,setosa\n",
            "5.2,4.1,1.5,0.1,0,setosa\n",
            "5.5,4.2,1.4,0.2,0,setosa\n",
            "4.9,3.1,1.5,0.1,0,setosa\n",
            "5,3.2,1.2,0.2,0,setosa\n",
            "5.5,3.5,1.3,0.2,0,setosa\n",
            "4.9,3.1,1.5,0.1,0,setosa\n",
            "4.4,3,1.3,0.2,0,setosa\n",
            "5.1,3.4,1.5,0.2,0,setosa\n",
            "5,3.5,1.3,0.3,0,setosa\n",
            "4.5,2.3,1.3,0.3,0,setosa\n",
            "4.4,3.2,1.3,0.2,0,setosa\n",
            "5,3.5,1.6,0.6,0,setosa\n",
            "5.1,3.8,1.9,0.4,0,setosa\n",
            "4.8,3,1.4,0.3,0,setosa\n",
            "5.1,3.8,1.6,0.2,0,setosa\n",
            "4.6,3.2,1.4,0.2,0,setosa\n",
            "5.3,3.7,1.5,0.2,0,setosa\n",
            "5,3.3,1.4,0.2,0,setosa\n",
            "7,3.2,4.7,1.4,1,versicolor\n",
            "6.4,3.2,4.5,1.5,1,versicolor\n",
            "6.9,3.1,4.9,1.5,1,versicolor\n",
            "5.5,2.3,4,1.3,1,versicolor\n",
            "6.5,2.8,4.6,1.5,1,versicolor\n",
            "5.7,2.8,4.5,1.3,1,versicolor\n",
            "6.3,3.3,4.7,1.6,1,versicolor\n",
            "4.9,2.4,3.3,1,1,versicolor\n",
            "6.6,2.9,4.6,1.3,1,versicolor\n",
            "5.2,2.7,3.9,1.4,1,versicolor\n",
            "5,2,3.5,1,1,versicolor\n",
            "5.9,3,4.2,1.5,1,versicolor\n",
            "6,2.2,4,1,1,versicolor\n",
            "6.1,2.9,4.7,1.4,1,versicolor\n",
            "5.6,2.9,3.6,1.3,1,versicolor\n",
            "6.7,3.1,4.4,1.4,1,versicolor\n",
            "5.6,3,4.5,1.5,1,versicolor\n",
            "5.8,2.7,4.1,1,1,versicolor\n",
            "6.2,2.2,4.5,1.5,1,versicolor\n",
            "5.6,2.5,3.9,1.1,1,versicolor\n",
            "5.9,3.2,4.8,1.8,1,versicolor\n",
            "6.1,2.8,4,1.3,1,versicolor\n",
            "6.3,2.5,4.9,1.5,1,versicolor\n",
            "6.1,2.8,4.7,1.2,1,versicolor\n",
            "6.4,2.9,4.3,1.3,1,versicolor\n",
            "6.6,3,4.4,1.4,1,versicolor\n",
            "6.8,2.8,4.8,1.4,1,versicolor\n",
            "6.7,3,5,1.7,1,versicolor\n",
            "6,2.9,4.5,1.5,1,versicolor\n",
            "5.7,2.6,3.5,1,1,versicolor\n",
            "5.5,2.4,3.8,1.1,1,versicolor\n",
            "5.5,2.4,3.7,1,1,versicolor\n",
            "5.8,2.7,3.9,1.2,1,versicolor\n",
            "6,2.7,5.1,1.6,1,versicolor\n",
            "5.4,3,4.5,1.5,1,versicolor\n",
            "6,3.4,4.5,1.6,1,versicolor\n",
            "6.7,3.1,4.7,1.5,1,versicolor\n",
            "6.3,2.3,4.4,1.3,1,versicolor\n",
            "5.6,3,4.1,1.3,1,versicolor\n",
            "5.5,2.5,4,1.3,1,versicolor\n",
            "5.5,2.6,4.4,1.2,1,versicolor\n",
            "6.1,3,4.6,1.4,1,versicolor\n",
            "5.8,2.6,4,1.2,1,versicolor\n",
            "5,2.3,3.3,1,1,versicolor\n",
            "5.6,2.7,4.2,1.3,1,versicolor\n",
            "5.7,3,4.2,1.2,1,versicolor\n",
            "5.7,2.9,4.2,1.3,1,versicolor\n",
            "6.2,2.9,4.3,1.3,1,versicolor\n",
            "5.1,2.5,3,1.1,1,versicolor\n",
            "5.7,2.8,4.1,1.3,1,versicolor\n",
            "6.3,3.3,6,2.5,2,virginica\n",
            "5.8,2.7,5.1,1.9,2,virginica\n",
            "7.1,3,5.9,2.1,2,virginica\n",
            "6.3,2.9,5.6,1.8,2,virginica\n",
            "6.5,3,5.8,2.2,2,virginica\n",
            "7.6,3,6.6,2.1,2,virginica\n",
            "4.9,2.5,4.5,1.7,2,virginica\n",
            "7.3,2.9,6.3,1.8,2,virginica\n",
            "6.7,2.5,5.8,1.8,2,virginica\n",
            "7.2,3.6,6.1,2.5,2,virginica\n",
            "6.5,3.2,5.1,2,2,virginica\n",
            "6.4,2.7,5.3,1.9,2,virginica\n",
            "6.8,3,5.5,2.1,2,virginica\n",
            "5.7,2.5,5,2,2,virginica\n",
            "5.8,2.8,5.1,2.4,2,virginica\n",
            "6.4,3.2,5.3,2.3,2,virginica\n",
            "6.5,3,5.5,1.8,2,virginica\n",
            "7.7,3.8,6.7,2.2,2,virginica\n",
            "7.7,2.6,6.9,2.3,2,virginica\n",
            "6,2.2,5,1.5,2,virginica\n",
            "6.9,3.2,5.7,2.3,2,virginica\n",
            "5.6,2.8,4.9,2,2,virginica\n",
            "7.7,2.8,6.7,2,2,virginica\n",
            "6.3,2.7,4.9,1.8,2,virginica\n",
            "6.7,3.3,5.7,2.1,2,virginica\n",
            "7.2,3.2,6,1.8,2,virginica\n",
            "6.2,2.8,4.8,1.8,2,virginica\n",
            "6.1,3,4.9,1.8,2,virginica\n",
            "6.4,2.8,5.6,2.1,2,virginica\n",
            "7.2,3,5.8,1.6,2,virginica\n",
            "7.4,2.8,6.1,1.9,2,virginica\n",
            "7.9,3.8,6.4,2,2,virginica\n",
            "6.4,2.8,5.6,2.2,2,virginica\n",
            "6.3,2.8,5.1,1.5,2,virginica\n",
            "6.1,2.6,5.6,1.4,2,virginica\n",
            "7.7,3,6.1,2.3,2,virginica\n",
            "6.3,3.4,5.6,2.4,2,virginica\n",
            "6.4,3.1,5.5,1.8,2,virginica\n",
            "6,3,4.8,1.8,2,virginica\n",
            "6.9,3.1,5.4,2.1,2,virginica\n",
            "6.7,3.1,5.6,2.4,2,virginica\n",
            "6.9,3.1,5.1,2.3,2,virginica\n",
            "5.8,2.7,5.1,1.9,2,virginica\n",
            "6.8,3.2,5.9,2.3,2,virginica\n",
            "6.7,3.3,5.7,2.5,2,virginica\n",
            "6.7,3,5.2,2.3,2,virginica\n",
            "6.3,2.5,5,1.9,2,virginica\n",
            "6.5,3,5.2,2,2,virginica\n",
            "6.2,3.4,5.4,2.3,2,virginica\n",
            "5.9,3,5.1,1.8,2,virginica\n",
            "\n"
          ]
        }
      ]
    },
    {
      "cell_type": "code",
      "source": [
        "import pandas as pd\n",
        "\n",
        "# File path to your CSV file\n",
        "file_path = '/content/drive/MyDrive/iris 17dec.csv'\n",
        "\n",
        "# Load the CSV file into a DataFrame\n",
        "df = pd.read_csv(file_path)\n",
        "\n",
        "# Display the first few rows\n",
        "print(df.head())\n"
      ],
      "metadata": {
        "colab": {
          "base_uri": "https://localhost:8080/"
        },
        "id": "QXqwkaqGotjp",
        "outputId": "a5b075c5-05f6-4f39-fc39-df7d8a81418c"
      },
      "execution_count": 3,
      "outputs": [
        {
          "output_type": "stream",
          "name": "stdout",
          "text": [
            "   sepal_length  sepal_width  petal_length  petal_width  class species\n",
            "0           5.1          3.5           1.4          0.2      0  setosa\n",
            "1           4.9          3.0           1.4          0.2      0  setosa\n",
            "2           4.7          3.2           1.3          0.2      0  setosa\n",
            "3           4.6          3.1           1.5          0.2      0  setosa\n",
            "4           5.0          3.6           1.4          0.2      0  setosa\n"
          ]
        }
      ]
    },
    {
      "cell_type": "code",
      "source": [
        "from sklearn.datasets import load_iris\n",
        "iris = load_iris()\n",
        "X = iris.data[:, :2] # we only take the first two features.\n",
        "Y = iris.target"
      ],
      "metadata": {
        "id": "e-SQjKEr7XKj"
      },
      "execution_count": 4,
      "outputs": []
    },
    {
      "cell_type": "code",
      "source": [
        "len(X)"
      ],
      "metadata": {
        "colab": {
          "base_uri": "https://localhost:8080/"
        },
        "id": "rs5FAKoz7bWS",
        "outputId": "1d1d448f-c285-44c6-fa64-ccde62ef3750"
      },
      "execution_count": 5,
      "outputs": [
        {
          "output_type": "execute_result",
          "data": {
            "text/plain": [
              "150"
            ]
          },
          "metadata": {},
          "execution_count": 5
        }
      ]
    },
    {
      "cell_type": "code",
      "source": [
        "type(X)"
      ],
      "metadata": {
        "colab": {
          "base_uri": "https://localhost:8080/"
        },
        "id": "KnxUWwTX7eOy",
        "outputId": "e9d79a50-d0ec-42e9-f861-b74fa54dccfc"
      },
      "execution_count": 6,
      "outputs": [
        {
          "output_type": "execute_result",
          "data": {
            "text/plain": [
              "numpy.ndarray"
            ]
          },
          "metadata": {},
          "execution_count": 6
        }
      ]
    },
    {
      "cell_type": "code",
      "source": [
        "X.shape"
      ],
      "metadata": {
        "colab": {
          "base_uri": "https://localhost:8080/"
        },
        "id": "pAaeRVdc7g6D",
        "outputId": "f4c5563b-5d74-47e0-d8ab-7c94362dc0b3"
      },
      "execution_count": 7,
      "outputs": [
        {
          "output_type": "execute_result",
          "data": {
            "text/plain": [
              "(150, 2)"
            ]
          },
          "metadata": {},
          "execution_count": 7
        }
      ]
    },
    {
      "cell_type": "code",
      "source": [
        "import pandas as pd\n",
        "import numpy as np\n",
        "data2=np.matrix(pd.read_csv('/content/drive/MyDrive/iris 17dec.csv'))\n",
        "print(data2)"
      ],
      "metadata": {
        "colab": {
          "base_uri": "https://localhost:8080/"
        },
        "id": "68vmb4t07jrq",
        "outputId": "adca6235-f3d6-4b61-944f-6b488705c00f"
      },
      "execution_count": 8,
      "outputs": [
        {
          "output_type": "stream",
          "name": "stdout",
          "text": [
            "[[5.1 3.5 1.4 0.2 0 'setosa']\n",
            " [4.9 3.0 1.4 0.2 0 'setosa']\n",
            " [4.7 3.2 1.3 0.2 0 'setosa']\n",
            " [4.6 3.1 1.5 0.2 0 'setosa']\n",
            " [5.0 3.6 1.4 0.2 0 'setosa']\n",
            " [5.4 3.9 1.7 0.4 0 'setosa']\n",
            " [4.6 3.4 1.4 0.3 0 'setosa']\n",
            " [5.0 3.4 1.5 0.2 0 'setosa']\n",
            " [4.4 2.9 1.4 0.2 0 'setosa']\n",
            " [4.9 3.1 1.5 0.1 0 'setosa']\n",
            " [5.4 3.7 1.5 0.2 0 'setosa']\n",
            " [4.8 3.4 1.6 0.2 0 'setosa']\n",
            " [4.8 3.0 1.4 0.1 0 'setosa']\n",
            " [4.3 3.0 1.1 0.1 0 'setosa']\n",
            " [5.8 4.0 1.2 0.2 0 'setosa']\n",
            " [5.7 4.4 1.5 0.4 0 'setosa']\n",
            " [5.4 3.9 1.3 0.4 0 'setosa']\n",
            " [5.1 3.5 1.4 0.3 0 'setosa']\n",
            " [5.7 3.8 1.7 0.3 0 'setosa']\n",
            " [5.1 3.8 1.5 0.3 0 'setosa']\n",
            " [5.4 3.4 1.7 0.2 0 'setosa']\n",
            " [5.1 3.7 1.5 0.4 0 'setosa']\n",
            " [4.6 3.6 1.0 0.2 0 'setosa']\n",
            " [5.1 3.3 1.7 0.5 0 'setosa']\n",
            " [4.8 3.4 1.9 0.2 0 'setosa']\n",
            " [5.0 3.0 1.6 0.2 0 'setosa']\n",
            " [5.0 3.4 1.6 0.4 0 'setosa']\n",
            " [5.2 3.5 1.5 0.2 0 'setosa']\n",
            " [5.2 3.4 1.4 0.2 0 'setosa']\n",
            " [4.7 3.2 1.6 0.2 0 'setosa']\n",
            " [4.8 3.1 1.6 0.2 0 'setosa']\n",
            " [5.4 3.4 1.5 0.4 0 'setosa']\n",
            " [5.2 4.1 1.5 0.1 0 'setosa']\n",
            " [5.5 4.2 1.4 0.2 0 'setosa']\n",
            " [4.9 3.1 1.5 0.1 0 'setosa']\n",
            " [5.0 3.2 1.2 0.2 0 'setosa']\n",
            " [5.5 3.5 1.3 0.2 0 'setosa']\n",
            " [4.9 3.1 1.5 0.1 0 'setosa']\n",
            " [4.4 3.0 1.3 0.2 0 'setosa']\n",
            " [5.1 3.4 1.5 0.2 0 'setosa']\n",
            " [5.0 3.5 1.3 0.3 0 'setosa']\n",
            " [4.5 2.3 1.3 0.3 0 'setosa']\n",
            " [4.4 3.2 1.3 0.2 0 'setosa']\n",
            " [5.0 3.5 1.6 0.6 0 'setosa']\n",
            " [5.1 3.8 1.9 0.4 0 'setosa']\n",
            " [4.8 3.0 1.4 0.3 0 'setosa']\n",
            " [5.1 3.8 1.6 0.2 0 'setosa']\n",
            " [4.6 3.2 1.4 0.2 0 'setosa']\n",
            " [5.3 3.7 1.5 0.2 0 'setosa']\n",
            " [5.0 3.3 1.4 0.2 0 'setosa']\n",
            " [7.0 3.2 4.7 1.4 1 'versicolor']\n",
            " [6.4 3.2 4.5 1.5 1 'versicolor']\n",
            " [6.9 3.1 4.9 1.5 1 'versicolor']\n",
            " [5.5 2.3 4.0 1.3 1 'versicolor']\n",
            " [6.5 2.8 4.6 1.5 1 'versicolor']\n",
            " [5.7 2.8 4.5 1.3 1 'versicolor']\n",
            " [6.3 3.3 4.7 1.6 1 'versicolor']\n",
            " [4.9 2.4 3.3 1.0 1 'versicolor']\n",
            " [6.6 2.9 4.6 1.3 1 'versicolor']\n",
            " [5.2 2.7 3.9 1.4 1 'versicolor']\n",
            " [5.0 2.0 3.5 1.0 1 'versicolor']\n",
            " [5.9 3.0 4.2 1.5 1 'versicolor']\n",
            " [6.0 2.2 4.0 1.0 1 'versicolor']\n",
            " [6.1 2.9 4.7 1.4 1 'versicolor']\n",
            " [5.6 2.9 3.6 1.3 1 'versicolor']\n",
            " [6.7 3.1 4.4 1.4 1 'versicolor']\n",
            " [5.6 3.0 4.5 1.5 1 'versicolor']\n",
            " [5.8 2.7 4.1 1.0 1 'versicolor']\n",
            " [6.2 2.2 4.5 1.5 1 'versicolor']\n",
            " [5.6 2.5 3.9 1.1 1 'versicolor']\n",
            " [5.9 3.2 4.8 1.8 1 'versicolor']\n",
            " [6.1 2.8 4.0 1.3 1 'versicolor']\n",
            " [6.3 2.5 4.9 1.5 1 'versicolor']\n",
            " [6.1 2.8 4.7 1.2 1 'versicolor']\n",
            " [6.4 2.9 4.3 1.3 1 'versicolor']\n",
            " [6.6 3.0 4.4 1.4 1 'versicolor']\n",
            " [6.8 2.8 4.8 1.4 1 'versicolor']\n",
            " [6.7 3.0 5.0 1.7 1 'versicolor']\n",
            " [6.0 2.9 4.5 1.5 1 'versicolor']\n",
            " [5.7 2.6 3.5 1.0 1 'versicolor']\n",
            " [5.5 2.4 3.8 1.1 1 'versicolor']\n",
            " [5.5 2.4 3.7 1.0 1 'versicolor']\n",
            " [5.8 2.7 3.9 1.2 1 'versicolor']\n",
            " [6.0 2.7 5.1 1.6 1 'versicolor']\n",
            " [5.4 3.0 4.5 1.5 1 'versicolor']\n",
            " [6.0 3.4 4.5 1.6 1 'versicolor']\n",
            " [6.7 3.1 4.7 1.5 1 'versicolor']\n",
            " [6.3 2.3 4.4 1.3 1 'versicolor']\n",
            " [5.6 3.0 4.1 1.3 1 'versicolor']\n",
            " [5.5 2.5 4.0 1.3 1 'versicolor']\n",
            " [5.5 2.6 4.4 1.2 1 'versicolor']\n",
            " [6.1 3.0 4.6 1.4 1 'versicolor']\n",
            " [5.8 2.6 4.0 1.2 1 'versicolor']\n",
            " [5.0 2.3 3.3 1.0 1 'versicolor']\n",
            " [5.6 2.7 4.2 1.3 1 'versicolor']\n",
            " [5.7 3.0 4.2 1.2 1 'versicolor']\n",
            " [5.7 2.9 4.2 1.3 1 'versicolor']\n",
            " [6.2 2.9 4.3 1.3 1 'versicolor']\n",
            " [5.1 2.5 3.0 1.1 1 'versicolor']\n",
            " [5.7 2.8 4.1 1.3 1 'versicolor']\n",
            " [6.3 3.3 6.0 2.5 2 'virginica']\n",
            " [5.8 2.7 5.1 1.9 2 'virginica']\n",
            " [7.1 3.0 5.9 2.1 2 'virginica']\n",
            " [6.3 2.9 5.6 1.8 2 'virginica']\n",
            " [6.5 3.0 5.8 2.2 2 'virginica']\n",
            " [7.6 3.0 6.6 2.1 2 'virginica']\n",
            " [4.9 2.5 4.5 1.7 2 'virginica']\n",
            " [7.3 2.9 6.3 1.8 2 'virginica']\n",
            " [6.7 2.5 5.8 1.8 2 'virginica']\n",
            " [7.2 3.6 6.1 2.5 2 'virginica']\n",
            " [6.5 3.2 5.1 2.0 2 'virginica']\n",
            " [6.4 2.7 5.3 1.9 2 'virginica']\n",
            " [6.8 3.0 5.5 2.1 2 'virginica']\n",
            " [5.7 2.5 5.0 2.0 2 'virginica']\n",
            " [5.8 2.8 5.1 2.4 2 'virginica']\n",
            " [6.4 3.2 5.3 2.3 2 'virginica']\n",
            " [6.5 3.0 5.5 1.8 2 'virginica']\n",
            " [7.7 3.8 6.7 2.2 2 'virginica']\n",
            " [7.7 2.6 6.9 2.3 2 'virginica']\n",
            " [6.0 2.2 5.0 1.5 2 'virginica']\n",
            " [6.9 3.2 5.7 2.3 2 'virginica']\n",
            " [5.6 2.8 4.9 2.0 2 'virginica']\n",
            " [7.7 2.8 6.7 2.0 2 'virginica']\n",
            " [6.3 2.7 4.9 1.8 2 'virginica']\n",
            " [6.7 3.3 5.7 2.1 2 'virginica']\n",
            " [7.2 3.2 6.0 1.8 2 'virginica']\n",
            " [6.2 2.8 4.8 1.8 2 'virginica']\n",
            " [6.1 3.0 4.9 1.8 2 'virginica']\n",
            " [6.4 2.8 5.6 2.1 2 'virginica']\n",
            " [7.2 3.0 5.8 1.6 2 'virginica']\n",
            " [7.4 2.8 6.1 1.9 2 'virginica']\n",
            " [7.9 3.8 6.4 2.0 2 'virginica']\n",
            " [6.4 2.8 5.6 2.2 2 'virginica']\n",
            " [6.3 2.8 5.1 1.5 2 'virginica']\n",
            " [6.1 2.6 5.6 1.4 2 'virginica']\n",
            " [7.7 3.0 6.1 2.3 2 'virginica']\n",
            " [6.3 3.4 5.6 2.4 2 'virginica']\n",
            " [6.4 3.1 5.5 1.8 2 'virginica']\n",
            " [6.0 3.0 4.8 1.8 2 'virginica']\n",
            " [6.9 3.1 5.4 2.1 2 'virginica']\n",
            " [6.7 3.1 5.6 2.4 2 'virginica']\n",
            " [6.9 3.1 5.1 2.3 2 'virginica']\n",
            " [5.8 2.7 5.1 1.9 2 'virginica']\n",
            " [6.8 3.2 5.9 2.3 2 'virginica']\n",
            " [6.7 3.3 5.7 2.5 2 'virginica']\n",
            " [6.7 3.0 5.2 2.3 2 'virginica']\n",
            " [6.3 2.5 5.0 1.9 2 'virginica']\n",
            " [6.5 3.0 5.2 2.0 2 'virginica']\n",
            " [6.2 3.4 5.4 2.3 2 'virginica']\n",
            " [5.9 3.0 5.1 1.8 2 'virginica']]\n"
          ]
        }
      ]
    },
    {
      "cell_type": "code",
      "source": [
        "X=np.loadtxt('/content/drive/MyDrive/iris 17dec.csv',\n",
        "skiprows=1,\n",
        "delimiter=\",\",\n",
        "usecols = (0,1,2,3,4),\n",
        "#comments = \"%\"\n",
        ")\n",
        "\n",
        "data = X\n",
        "print(data.shape)\n",
        "X= data[:,0:4]\n",
        "y= data[:,4]\n"
      ],
      "metadata": {
        "colab": {
          "base_uri": "https://localhost:8080/"
        },
        "id": "pVYZegY67vsK",
        "outputId": "54ad9a00-803b-48ff-f7a1-93898625bf7b"
      },
      "execution_count": 9,
      "outputs": [
        {
          "output_type": "stream",
          "name": "stdout",
          "text": [
            "(150, 5)\n"
          ]
        }
      ]
    },
    {
      "cell_type": "code",
      "source": [
        "import matplotlib.pyplot as plt\n",
        "%matplotlib inline\n",
        "plt.scatter(X[:,1],X[:,2],c=y)"
      ],
      "metadata": {
        "colab": {
          "base_uri": "https://localhost:8080/",
          "height": 447
        },
        "id": "NhKK5uBd76aK",
        "outputId": "3951e0a9-70d4-409a-dd6e-32bacf10cf18"
      },
      "execution_count": 10,
      "outputs": [
        {
          "output_type": "execute_result",
          "data": {
            "text/plain": [
              "<matplotlib.collections.PathCollection at 0x7de1ba6fee30>"
            ]
          },
          "metadata": {},
          "execution_count": 10
        },
        {
          "output_type": "display_data",
          "data": {
            "text/plain": [
              "<Figure size 640x480 with 1 Axes>"
            ],
            "image/png": "[encoded data removed]"
          },
          "metadata": {}
        }
      ]
    },
    {
      "cell_type": "code",
      "source": [
        "#from sklearn import neighbors\n",
        "\n",
        "#knn=neighbors.KNeighborsClassifier()\n",
        "\n",
        "# we create an instance of Neighbours Classifier and fit the data.\n",
        "#knn.fit(X, Y)\n",
        "#%%\n",
        "from sklearn import neighbors as sk\n",
        "knn=sk.KNeighborsClassifier(n_neighbors=3)\n",
        "\n",
        "# we create an instance of Neighbours Classifier and fit the data.\n",
        "knn.fit(X, Y)\n"
      ],
      "metadata": {
        "colab": {
          "base_uri": "https://localhost:8080/",
          "height": 80
        },
        "id": "gWomvQnt78wa",
        "outputId": "4bf792dd-3b4c-4ee1-d397-13ac4ba3f216"
      },
      "execution_count": 11,
      "outputs": [
        {
          "output_type": "execute_result",
          "data": {
            "text/plain": [
              "KNeighborsClassifier(n_neighbors=3)"
            ],
            "text/html": [
              "<style>#sk-container-id-1 {\n",
              "  /* Definition of color scheme common for light and dark mode */\n",
              "  --sklearn-color-text: black;\n",
              "  --sklearn-color-line: gray;\n",
              "  /* Definition of color scheme for unfitted estimators */\n",
              "  --sklearn-color-unfitted-level-0: #fff5e6;\n",
              "  --sklearn-color-unfitted-level-1: #f6e4d2;\n",
              "  --sklearn-color-unfitted-level-2: #ffe0b3;\n",
              "  --sklearn-color-unfitted-level-3: chocolate;\n",
              "  /* Definition of color scheme for fitted estimators */\n",
              "  --sklearn-color-fitted-level-0: #f0f8ff;\n",
              "  --sklearn-color-fitted-level-1: #d4ebff;\n",
              "  --sklearn-color-fitted-level-2: #b3dbfd;\n",
              "  --sklearn-color-fitted-level-3: cornflowerblue;\n",
              "\n",
              "  /* Specific color for light theme */\n",
              "  --sklearn-color-text-on-default-background: var(--sg-text-color, var(--theme-code-foreground, var(--jp-content-font-color1, black)));\n",
              "  --sklearn-color-background: var(--sg-background-color, var(--theme-background, var(--jp-layout-color0, white)));\n",
              "  --sklearn-color-border-box: var(--sg-text-color, var(--theme-code-foreground, var(--jp-content-font-color1, black)));\n",
              "  --sklearn-color-icon: #696969;\n",
              "\n",
              "  @media (prefers-color-scheme: dark) {\n",
              "    /* Redefinition of color scheme for dark theme */\n",
              "    --sklearn-color-text-on-default-background: var(--sg-text-color, var(--theme-code-foreground, var(--jp-content-font-color1, white)));\n",
              "    --sklearn-color-background: var(--sg-background-color, var(--theme-background, var(--jp-layout-color0, #111)));\n",
              "    --sklearn-color-border-box: var(--sg-text-color, var(--theme-code-foreground, var(--jp-content-font-color1, white)));\n",
              "    --sklearn-color-icon: #878787;\n",
              "  }\n",
              "}\n",
              "\n",
              "#sk-container-id-1 {\n",
              "  color: var(--sklearn-color-text);\n",
              "}\n",
              "\n",
              "#sk-container-id-1 pre {\n",
              "  padding: 0;\n",
              "}\n",
              "\n",
              "#sk-container-id-1 input.sk-hidden--visually {\n",
              "  border: 0;\n",
              "  clip: rect(1px 1px 1px 1px);\n",
              "  clip: rect(1px, 1px, 1px, 1px);\n",
              "  height: 1px;\n",
              "  margin: -1px;\n",
              "  overflow: hidden;\n",
              "  padding: 0;\n",
              "  position: absolute;\n",
              "  width: 1px;\n",
              "}\n",
              "\n",
              "#sk-container-id-1 div.sk-dashed-wrapped {\n",
              "  border: 1px dashed var(--sklearn-color-line);\n",
              "  margin: 0 0.4em 0.5em 0.4em;\n",
              "  box-sizing: border-box;\n",
              "  padding-bottom: 0.4em;\n",
              "  background-color: var(--sklearn-color-background);\n",
              "}\n",
              "\n",
              "#sk-container-id-1 div.sk-container {\n",
              "  /* jupyter's `normalize.less` sets `[hidden] { display: none; }`\n",
              "     but bootstrap.min.css set `[hidden] { display: none !important; }`\n",
              "     so we also need the `!important` here to be able to override the\n",
              "     default hidden behavior on the sphinx rendered scikit-learn.org.\n",
              "     See: https://github.com/scikit-learn/scikit-learn/issues/21755 */\n",
              "  display: inline-block !important;\n",
              "  position: relative;\n",
              "}\n",
              "\n",
              "#sk-container-id-1 div.sk-text-repr-fallback {\n",
              "  display: none;\n",
              "}\n",
              "\n",
              "div.sk-parallel-item,\n",
              "div.sk-serial,\n",
              "div.sk-item {\n",
              "  /* draw centered vertical line to link estimators */\n",
              "  background-image: linear-gradient(var(--sklearn-color-text-on-default-background), var(--sklearn-color-text-on-default-background));\n",
              "  background-size: 2px 100%;\n",
              "  background-repeat: no-repeat;\n",
              "  background-position: center center;\n",
              "}\n",
              "\n",
              "/* Parallel-specific style estimator block */\n",
              "\n",
              "#sk-container-id-1 div.sk-parallel-item::after {\n",
              "  content: \"\";\n",
              "  width: 100%;\n",
              "  border-bottom: 2px solid var(--sklearn-color-text-on-default-background);\n",
              "  flex-grow: 1;\n",
              "}\n",
              "\n",
              "#sk-container-id-1 div.sk-parallel {\n",
              "  display: flex;\n",
              "  align-items: stretch;\n",
              "  justify-content: center;\n",
              "  background-color: var(--sklearn-color-background);\n",
              "  position: relative;\n",
              "}\n",
              "\n",
              "#sk-container-id-1 div.sk-parallel-item {\n",
              "  display: flex;\n",
              "  flex-direction: column;\n",
              "}\n",
              "\n",
              "#sk-container-id-1 div.sk-parallel-item:first-child::after {\n",
              "  align-self: flex-end;\n",
              "  width: 50%;\n",
              "}\n",
              "\n",
              "#sk-container-id-1 div.sk-parallel-item:last-child::after {\n",
              "  align-self: flex-start;\n",
              "  width: 50%;\n",
              "}\n",
              "\n",
              "#sk-container-id-1 div.sk-parallel-item:only-child::after {\n",
              "  width: 0;\n",
              "}\n",
              "\n",
              "/* Serial-specific style estimator block */\n",
              "\n",
              "#sk-container-id-1 div.sk-serial {\n",
              "  display: flex;\n",
              "  flex-direction: column;\n",
              "  align-items: center;\n",
              "  background-color: var(--sklearn-color-background);\n",
              "  padding-right: 1em;\n",
              "  padding-left: 1em;\n",
              "}\n",
              "\n",
              "\n",
              "/* Toggleable style: style used for estimator/Pipeline/ColumnTransformer box that is\n",
              "clickable and can be expanded/collapsed.\n",
              "- Pipeline and ColumnTransformer use this feature and define the default style\n",
              "- Estimators will overwrite some part of the style using the `sk-estimator` class\n",
              "*/\n",
              "\n",
              "/* Pipeline and ColumnTransformer style (default) */\n",
              "\n",
              "#sk-container-id-1 div.sk-toggleable {\n",
              "  /* Default theme specific background. It is overwritten whether we have a\n",
              "  specific estimator or a Pipeline/ColumnTransformer */\n",
              "  background-color: var(--sklearn-color-background);\n",
              "}\n",
              "\n",
              "/* Toggleable label */\n",
              "#sk-container-id-1 label.sk-toggleable__label {\n",
              "  cursor: pointer;\n",
              "  display: block;\n",
              "  width: 100%;\n",
              "  margin-bottom: 0;\n",
              "  padding: 0.5em;\n",
              "  box-sizing: border-box;\n",
              "  text-align: center;\n",
              "}\n",
              "\n",
              "#sk-container-id-1 label.sk-toggleable__label-arrow:before {\n",
              "  /* Arrow on the left of the label */\n",
              "  content: \"▸\";\n",
              "  float: left;\n",
              "  margin-right: 0.25em;\n",
              "  color: var(--sklearn-color-icon);\n",
              "}\n",
              "\n",
              "#sk-container-id-1 label.sk-toggleable__label-arrow:hover:before {\n",
              "  color: var(--sklearn-color-text);\n",
              "}\n",
              "\n",
              "/* Toggleable content - dropdown */\n",
              "\n",
              "#sk-container-id-1 div.sk-toggleable__content {\n",
              "  max-height: 0;\n",
              "  max-width: 0;\n",
              "  overflow: hidden;\n",
              "  text-align: left;\n",
              "  /* unfitted */\n",
              "  background-color: var(--sklearn-color-unfitted-level-0);\n",
              "}\n",
              "\n",
              "#sk-container-id-1 div.sk-toggleable__content.fitted {\n",
              "  /* fitted */\n",
              "  background-color: var(--sklearn-color-fitted-level-0);\n",
              "}\n",
              "\n",
              "#sk-container-id-1 div.sk-toggleable__content pre {\n",
              "  margin: 0.2em;\n",
              "  border-radius: 0.25em;\n",
              "  color: var(--sklearn-color-text);\n",
              "  /* unfitted */\n",
              "  background-color: var(--sklearn-color-unfitted-level-0);\n",
              "}\n",
              "\n",
              "#sk-container-id-1 div.sk-toggleable__content.fitted pre {\n",
              "  /* unfitted */\n",
              "  background-color: var(--sklearn-color-fitted-level-0);\n",
              "}\n",
              "\n",
              "#sk-container-id-1 input.sk-toggleable__control:checked~div.sk-toggleable__content {\n",
              "  /* Expand drop-down */\n",
              "  max-height: 200px;\n",
              "  max-width: 100%;\n",
              "  overflow: auto;\n",
              "}\n",
              "\n",
              "#sk-container-id-1 input.sk-toggleable__control:checked~label.sk-toggleable__label-arrow:before {\n",
              "  content: \"▾\";\n",
              "}\n",
              "\n",
              "/* Pipeline/ColumnTransformer-specific style */\n",
              "\n",
              "#sk-container-id-1 div.sk-label input.sk-toggleable__control:checked~label.sk-toggleable__label {\n",
              "  color: var(--sklearn-color-text);\n",
              "  background-color: var(--sklearn-color-unfitted-level-2);\n",
              "}\n",
              "\n",
              "#sk-container-id-1 div.sk-label.fitted input.sk-toggleable__control:checked~label.sk-toggleable__label {\n",
              "  background-color: var(--sklearn-color-fitted-level-2);\n",
              "}\n",
              "\n",
              "/* Estimator-specific style */\n",
              "\n",
              "/* Colorize estimator box */\n",
              "#sk-container-id-1 div.sk-estimator input.sk-toggleable__control:checked~label.sk-toggleable__label {\n",
              "  /* unfitted */\n",
              "  background-color: var(--sklearn-color-unfitted-level-2);\n",
              "}\n",
              "\n",
              "#sk-container-id-1 div.sk-estimator.fitted input.sk-toggleable__control:checked~label.sk-toggleable__label {\n",
              "  /* fitted */\n",
              "  background-color: var(--sklearn-color-fitted-level-2);\n",
              "}\n",
              "\n",
              "#sk-container-id-1 div.sk-label label.sk-toggleable__label,\n",
              "#sk-container-id-1 div.sk-label label {\n",
              "  /* The background is the default theme color */\n",
              "  color: var(--sklearn-color-text-on-default-background);\n",
              "}\n",
              "\n",
              "/* On hover, darken the color of the background */\n",
              "#sk-container-id-1 div.sk-label:hover label.sk-toggleable__label {\n",
              "  color: var(--sklearn-color-text);\n",
              "  background-color: var(--sklearn-color-unfitted-level-2);\n",
              "}\n",
              "\n",
              "/* Label box, darken color on hover, fitted */\n",
              "#sk-container-id-1 div.sk-label.fitted:hover label.sk-toggleable__label.fitted {\n",
              "  color: var(--sklearn-color-text);\n",
              "  background-color: var(--sklearn-color-fitted-level-2);\n",
              "}\n",
              "\n",
              "/* Estimator label */\n",
              "\n",
              "#sk-container-id-1 div.sk-label label {\n",
              "  font-family: monospace;\n",
              "  font-weight: bold;\n",
              "  display: inline-block;\n",
              "  line-height: 1.2em;\n",
              "}\n",
              "\n",
              "#sk-container-id-1 div.sk-label-container {\n",
              "  text-align: center;\n",
              "}\n",
              "\n",
              "/* Estimator-specific */\n",
              "#sk-container-id-1 div.sk-estimator {\n",
              "  font-family: monospace;\n",
              "  border: 1px dotted var(--sklearn-color-border-box);\n",
              "  border-radius: 0.25em;\n",
              "  box-sizing: border-box;\n",
              "  margin-bottom: 0.5em;\n",
              "  /* unfitted */\n",
              "  background-color: var(--sklearn-color-unfitted-level-0);\n",
              "}\n",
              "\n",
              "#sk-container-id-1 div.sk-estimator.fitted {\n",
              "  /* fitted */\n",
              "  background-color: var(--sklearn-color-fitted-level-0);\n",
              "}\n",
              "\n",
              "/* on hover */\n",
              "#sk-container-id-1 div.sk-estimator:hover {\n",
              "  /* unfitted */\n",
              "  background-color: var(--sklearn-color-unfitted-level-2);\n",
              "}\n",
              "\n",
              "#sk-container-id-1 div.sk-estimator.fitted:hover {\n",
              "  /* fitted */\n",
              "  background-color: var(--sklearn-color-fitted-level-2);\n",
              "}\n",
              "\n",
              "/* Specification for estimator info (e.g. \"i\" and \"?\") */\n",
              "\n",
              "/* Common style for \"i\" and \"?\" */\n",
              "\n",
              ".sk-estimator-doc-link,\n",
              "a:link.sk-estimator-doc-link,\n",
              "a:visited.sk-estimator-doc-link {\n",
              "  float: right;\n",
              "  font-size: smaller;\n",
              "  line-height: 1em;\n",
              "  font-family: monospace;\n",
              "  background-color: var(--sklearn-color-background);\n",
              "  border-radius: 1em;\n",
              "  height: 1em;\n",
              "  width: 1em;\n",
              "  text-decoration: none !important;\n",
              "  margin-left: 1ex;\n",
              "  /* unfitted */\n",
              "  border: var(--sklearn-color-unfitted-level-1) 1pt solid;\n",
              "  color: var(--sklearn-color-unfitted-level-1);\n",
              "}\n",
              "\n",
              ".sk-estimator-doc-link.fitted,\n",
              "a:link.sk-estimator-doc-link.fitted,\n",
              "a:visited.sk-estimator-doc-link.fitted {\n",
              "  /* fitted */\n",
              "  border: var(--sklearn-color-fitted-level-1) 1pt solid;\n",
              "  color: var(--sklearn-color-fitted-level-1);\n",
              "}\n",
              "\n",
              "/* On hover */\n",
              "div.sk-estimator:hover .sk-estimator-doc-link:hover,\n",
              ".sk-estimator-doc-link:hover,\n",
              "div.sk-label-container:hover .sk-estimator-doc-link:hover,\n",
              ".sk-estimator-doc-link:hover {\n",
              "  /* unfitted */\n",
              "  background-color: var(--sklearn-color-unfitted-level-3);\n",
              "  color: var(--sklearn-color-background);\n",
              "  text-decoration: none;\n",
              "}\n",
              "\n",
              "div.sk-estimator.fitted:hover .sk-estimator-doc-link.fitted:hover,\n",
              ".sk-estimator-doc-link.fitted:hover,\n",
              "div.sk-label-container:hover .sk-estimator-doc-link.fitted:hover,\n",
              ".sk-estimator-doc-link.fitted:hover {\n",
              "  /* fitted */\n",
              "  background-color: var(--sklearn-color-fitted-level-3);\n",
              "  color: var(--sklearn-color-background);\n",
              "  text-decoration: none;\n",
              "}\n",
              "\n",
              "/* Span, style for the box shown on hovering the info icon */\n",
              ".sk-estimator-doc-link span {\n",
              "  display: none;\n",
              "  z-index: 9999;\n",
              "  position: relative;\n",
              "  font-weight: normal;\n",
              "  right: .2ex;\n",
              "  padding: .5ex;\n",
              "  margin: .5ex;\n",
              "  width: min-content;\n",
              "  min-width: 20ex;\n",
              "  max-width: 50ex;\n",
              "  color: var(--sklearn-color-text);\n",
              "  box-shadow: 2pt 2pt 4pt #999;\n",
              "  /* unfitted */\n",
              "  background: var(--sklearn-color-unfitted-level-0);\n",
              "  border: .5pt solid var(--sklearn-color-unfitted-level-3);\n",
              "}\n",
              "\n",
              ".sk-estimator-doc-link.fitted span {\n",
              "  /* fitted */\n",
              "  background: var(--sklearn-color-fitted-level-0);\n",
              "  border: var(--sklearn-color-fitted-level-3);\n",
              "}\n",
              "\n",
              ".sk-estimator-doc-link:hover span {\n",
              "  display: block;\n",
              "}\n",
              "\n",
              "/* \"?\"-specific style due to the `<a>` HTML tag */\n",
              "\n",
              "#sk-container-id-1 a.estimator_doc_link {\n",
              "  float: right;\n",
              "  font-size: 1rem;\n",
              "  line-height: 1em;\n",
              "  font-family: monospace;\n",
              "  background-color: var(--sklearn-color-background);\n",
              "  border-radius: 1rem;\n",
              "  height: 1rem;\n",
              "  width: 1rem;\n",
              "  text-decoration: none;\n",
              "  /* unfitted */\n",
              "  color: var(--sklearn-color-unfitted-level-1);\n",
              "  border: var(--sklearn-color-unfitted-level-1) 1pt solid;\n",
              "}\n",
              "\n",
              "#sk-container-id-1 a.estimator_doc_link.fitted {\n",
              "  /* fitted */\n",
              "  border: var(--sklearn-color-fitted-level-1) 1pt solid;\n",
              "  color: var(--sklearn-color-fitted-level-1);\n",
              "}\n",
              "\n",
              "/* On hover */\n",
              "#sk-container-id-1 a.estimator_doc_link:hover {\n",
              "  /* unfitted */\n",
              "  background-color: var(--sklearn-color-unfitted-level-3);\n",
              "  color: var(--sklearn-color-background);\n",
              "  text-decoration: none;\n",
              "}\n",
              "\n",
              "#sk-container-id-1 a.estimator_doc_link.fitted:hover {\n",
              "  /* fitted */\n",
              "  background-color: var(--sklearn-color-fitted-level-3);\n",
              "}\n",
              "</style><div id=\"sk-container-id-1\" class=\"sk-top-container\"><div class=\"sk-text-repr-fallback\"><pre>KNeighborsClassifier(n_neighbors=3)</pre><b>In a Jupyter environment, please rerun this cell to show the HTML representation or trust the notebook. <br />On GitHub, the HTML representation is unable to render, please try loading this page with nbviewer.org.</b></div><div class=\"sk-container\" hidden><div class=\"sk-item\"><div class=\"sk-estimator fitted sk-toggleable\"><input class=\"sk-toggleable__control sk-hidden--visually\" id=\"sk-estimator-id-1\" type=\"checkbox\" checked><label for=\"sk-estimator-id-1\" class=\"sk-toggleable__label fitted sk-toggleable__label-arrow fitted\">&nbsp;&nbsp;KNeighborsClassifier<a class=\"sk-estimator-doc-link fitted\" rel=\"noreferrer\" target=\"_blank\" href=\"https://scikit-learn.org/1.5/modules/generated/sklearn.neighbors.KNeighborsClassifier.html\">?<span>Documentation for KNeighborsClassifier</span></a><span class=\"sk-estimator-doc-link fitted\">i<span>Fitted</span></span></label><div class=\"sk-toggleable__content fitted\"><pre>KNeighborsClassifier(n_neighbors=3)</pre></div> </div></div></div></div>"
            ]
          },
          "metadata": {},
          "execution_count": 11
        }
      ]
    },
    {
      "cell_type": "code",
      "source": [
        "X[110,:].shape"
      ],
      "metadata": {
        "colab": {
          "base_uri": "https://localhost:8080/"
        },
        "id": "DOidHZys8Eqc",
        "outputId": "23cd7633-b3ba-4f8d-9677-f2d7c6d6a7ee"
      },
      "execution_count": 12,
      "outputs": [
        {
          "output_type": "execute_result",
          "data": {
            "text/plain": [
              "(4,)"
            ]
          },
          "metadata": {},
          "execution_count": 12
        }
      ]
    },
    {
      "cell_type": "code",
      "source": [
        "X[110,:]"
      ],
      "metadata": {
        "colab": {
          "base_uri": "https://localhost:8080/"
        },
        "id": "QiMLIxqI8GTC",
        "outputId": "e1b79f99-7c6c-4ca1-c5b0-afd869341d4c"
      },
      "execution_count": 13,
      "outputs": [
        {
          "output_type": "execute_result",
          "data": {
            "text/plain": [
              "array([6.5, 3.2, 5.1, 2. ])"
            ]
          },
          "metadata": {},
          "execution_count": 13
        }
      ]
    },
    {
      "cell_type": "code",
      "source": [
        "X[110,:][np.newaxis]"
      ],
      "metadata": {
        "colab": {
          "base_uri": "https://localhost:8080/"
        },
        "id": "xKEM2cTi8KPy",
        "outputId": "92d81863-2db3-41c0-aa90-a6f54a959f79"
      },
      "execution_count": 14,
      "outputs": [
        {
          "output_type": "execute_result",
          "data": {
            "text/plain": [
              "array([[6.5, 3.2, 5.1, 2. ]])"
            ]
          },
          "metadata": {},
          "execution_count": 14
        }
      ]
    },
    {
      "cell_type": "code",
      "source": [
        "X[110,:][np.newaxis].shape"
      ],
      "metadata": {
        "colab": {
          "base_uri": "https://localhost:8080/"
        },
        "id": "Lwo890sS8Lrq",
        "outputId": "56b25647-c963-40b5-d4f4-99fbcc42375f"
      },
      "execution_count": 15,
      "outputs": [
        {
          "output_type": "execute_result",
          "data": {
            "text/plain": [
              "(1, 4)"
            ]
          },
          "metadata": {},
          "execution_count": 15
        }
      ]
    },
    {
      "cell_type": "code",
      "source": [
        "p = knn.predict(X[10,:][np.newaxis])\n",
        "print(p)\n",
        "\n",
        "q = knn.predict(np.array([6,3,5,2])[np.newaxis])\n",
        "\n",
        "print(q)\n",
        "\n",
        "q2 = knn.predict(np.array([[6,3,5,2]]))\n",
        "print(q2)\n",
        "\n",
        "\n",
        "#%%"
      ],
      "metadata": {
        "colab": {
          "base_uri": "https://localhost:8080/"
        },
        "id": "lyhOMhMs8O0q",
        "outputId": "dc4e3d63-8000-48c2-a19d-3a8ffec7c990"
      },
      "execution_count": 16,
      "outputs": [
        {
          "output_type": "stream",
          "name": "stdout",
          "text": [
            "[0]\n",
            "[2]\n",
            "[2]\n"
          ]
        }
      ]
    },
    {
      "cell_type": "code",
      "source": [
        "def distance(a,b):\n",
        "    return np.sqrt(np.sum(np.power((a-b),2)))\n",
        "\n",
        "a= X[1,:][np.newaxis]\n",
        "b= X[100,:][np.newaxis]\n",
        "\n",
        "print(distance(a,b))\n",
        "\n",
        "d =[distance(a,b) for b in X]"
      ],
      "metadata": {
        "colab": {
          "base_uri": "https://localhost:8080/"
        },
        "id": "FzRhkT7S8ZKh",
        "outputId": "c703173b-cf64-4d9e-9145-4f5f58376484"
      },
      "execution_count": 17,
      "outputs": [
        {
          "output_type": "stream",
          "name": "stdout",
          "text": [
            "5.338539126015655\n"
          ]
        }
      ]
    }
  ]
}